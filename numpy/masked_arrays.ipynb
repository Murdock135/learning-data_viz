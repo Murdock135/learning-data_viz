{
 "cells": [
  {
   "cell_type": "markdown",
   "metadata": {},
   "source": [
    "# Masked arrays"
   ]
  },
  {
   "cell_type": "markdown",
   "metadata": {
    "vscode": {
     "languageId": "plaintext"
    }
   },
   "source": [
    "Just an array with bools or `nomask` to indicate invalid values.\n",
    "\n",
    "- True means element of array is indeed invalid.\n",
    "- False means element of array is actually valid.\n",
    "- Main feature is the `np.ma` class. Note that it is a subclass of `np.ndarray`\n",
    "\n",
    "References\n",
    "1. See for a complete discussion on creating masked arrays: https://numpy.org/doc/stable/reference/maskedarray.generic.html#maskedarray-generic-constructing"
   ]
  },
  {
   "cell_type": "code",
   "execution_count": 3,
   "metadata": {},
   "outputs": [
    {
     "name": "stdout",
     "output_type": "stream",
     "text": [
      "[1 2 3 -- 5]\n",
      "2.75\n"
     ]
    }
   ],
   "source": [
    "# Examples\n",
    "\n",
    "# 1\n",
    "import numpy as np\n",
    "import numpy.ma as ma\n",
    "x = np.array([1, 2, 3, -1, 5])\n",
    "\n",
    "# we wish to mark the 4th entry as invalid.\n",
    "mx = ma.masked_array(x, mask=[0,0,0,1,0])\n",
    "print(mx)\n",
    "\n",
    "# we can then calculate, say, the mean, excluding the invalid value\n",
    "print(mx.mean())"
   ]
  },
  {
   "cell_type": "markdown",
   "metadata": {},
   "source": [
    "Some more ways of creating a masked array:"
   ]
  },
  {
   "cell_type": "code",
   "execution_count": 4,
   "metadata": {},
   "outputs": [
    {
     "name": "stdout",
     "output_type": "stream",
     "text": [
      "[1 -- 3] [1.0 -- 3.0 4.0]\n"
     ]
    }
   ],
   "source": [
    "# 2\n",
    "y = ma.array([1,2,3], mask=[0,1,0]) # marking 2nd element as invalid\n",
    "z = ma.masked_values([1.0, 1.e20, 3.0, 4.0], 1.e20) # values close to 1.e20 are invalid\n",
    "\n",
    "print(y, z)\n"
   ]
  }
 ],
 "metadata": {
  "kernelspec": {
   "display_name": "nn",
   "language": "python",
   "name": "python3"
  },
  "language_info": {
   "codemirror_mode": {
    "name": "ipython",
    "version": 3
   },
   "file_extension": ".py",
   "mimetype": "text/x-python",
   "name": "python",
   "nbconvert_exporter": "python",
   "pygments_lexer": "ipython3",
   "version": "3.11.5"
  }
 },
 "nbformat": 4,
 "nbformat_minor": 2
}
